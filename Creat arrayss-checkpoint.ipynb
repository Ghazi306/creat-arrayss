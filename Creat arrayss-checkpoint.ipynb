{
 "cells": [
  {
   "cell_type": "code",
   "execution_count": 5,
   "id": "e4d7d3f7",
   "metadata": {},
   "outputs": [
    {
     "name": "stdout",
     "output_type": "stream",
     "text": [
      "Real array: array('i', [1, 3, 5, 3, 7, 1, 9, 3])\n",
      "Convert the array to an ordinary list with the same items:\n",
      "[1, 3, 5, 3, 7, 1, 9, 3]\n"
     ]
    }
   ],
   "source": [
    "#question 1:\n",
    "from array import *\n",
    "array_num = array('i', [1, 3, 5, 3, 7, 1, 9, 3])\n",
    "print(\"Real array: \"+str(array_num))\n",
    "num_list = array_num.tolist()\n",
    "print(\"Convert the array to an ordinary list with the same items:\")\n",
    "print(num_list)"
   ]
  },
  {
   "cell_type": "code",
   "execution_count": 12,
   "id": "eaffa09f",
   "metadata": {},
   "outputs": [
    {
     "name": "stdout",
     "output_type": "stream",
     "text": [
      "Original matrix:\n",
      "[[0 1 2]\n",
      " [3 4 5]]\n",
      "Condition number of the said matrix:\n",
      "4\n"
     ]
    }
   ],
   "source": [
    "#question 2:\n",
    "import numpy as np\n",
    "m = np.arange(6).reshape(2,3)\n",
    "print(\"Original matrix:\")\n",
    "print(m)\n",
    "result =  np.trace(m)\n",
    "print(\"Condition number of the matrix:\")\n",
    "print(result)"
   ]
  },
  {
   "cell_type": "code",
   "execution_count": 14,
   "id": "ae645a40",
   "metadata": {},
   "outputs": [
    {
     "name": "stdout",
     "output_type": "stream",
     "text": [
      "Original array: \n",
      "[[ 0 10 20]\n",
      " [20 30 40]]\n",
      "Values bigger than x = [0]\n",
      "Their indices are  (array([0], dtype=int32), array([0], dtype=int32))\n"
     ]
    }
   ],
   "source": [
    "#question 3:\n",
    "import numpy as np\n",
    "x = np.array([[0, 10, 20], [20, 30, 40]])\n",
    "print(\"Original array: \")\n",
    "print(x)\n",
    "print(\"Values bigger than x =\", x[x>10])\n",
    "print(\"Their indices are \", np.nonzero(x > 10))"
   ]
  },
  {
   "cell_type": "code",
   "execution_count": 2,
   "id": "50ce3ad5",
   "metadata": {},
   "outputs": [
    {
     "ename": "SyntaxError",
     "evalue": "cannot assign to function call (<ipython-input-2-e9d38404e8b2>, line 3)",
     "output_type": "error",
     "traceback": [
      "\u001b[1;36m  File \u001b[1;32m\"<ipython-input-2-e9d38404e8b2>\"\u001b[1;36m, line \u001b[1;32m3\u001b[0m\n\u001b[1;33m    a=np.array([1, 10, 100])= np.full_like(a)\u001b[0m\n\u001b[1;37m      ^\u001b[0m\n\u001b[1;31mSyntaxError\u001b[0m\u001b[1;31m:\u001b[0m cannot assign to function call\n"
     ]
    }
   ],
   "source": [
    "#question 4:\n",
    "import numpy as np\n",
    "a=np.ones([1, 10, 100])= np.full_like(a)\n",
    "b=np.ones([2, 20, 200])= np.full_like(a)"
   ]
  },
  {
   "cell_type": "code",
   "execution_count": 15,
   "id": "773a1134",
   "metadata": {},
   "outputs": [
    {
     "name": "stdout",
     "output_type": "stream",
     "text": [
      "Original matrix:\n",
      "\n",
      "[[0.16756347 0.80944493 0.9105473  0.59597861 0.02434272 0.99487104\n",
      "  0.52613769 0.00920033 0.54156772 0.56503022]\n",
      " [0.86695477 0.10949513 0.7195596  0.02506712 0.89315975 0.43854816\n",
      "  0.215476   0.83630283 0.95434388 0.57180507]\n",
      " [0.87852149 0.53296646 0.29547853 0.28103769 0.43324106 0.18754685\n",
      "  0.41931671 0.87483718 0.77422864 0.79138168]\n",
      " [0.28779932 0.99428173 0.10581693 0.06609925 0.71177657 0.049628\n",
      "  0.27978556 0.42241459 0.06355924 0.21161842]\n",
      " [0.6178726  0.30711966 0.71296209 0.33672662 0.78389162 0.06440882\n",
      "  0.84042401 0.82499507 0.82948856 0.91594829]]\n",
      "\n",
      "Subtract the mean of each row of the said matrix:\n",
      "\n",
      "[[-0.34690493  0.29497653  0.3960789   0.08151021 -0.49012568  0.48040263\n",
      "   0.01166929 -0.50526807  0.02709932  0.05056181]\n",
      " [ 0.30388354 -0.45357611  0.15648837 -0.53800411  0.33008852 -0.12452307\n",
      "  -0.34759523  0.2732316   0.39127265  0.00873384]\n",
      " [ 0.33166586 -0.01388917 -0.2513771  -0.26581794 -0.11361457 -0.35930878\n",
      "  -0.12753892  0.32798155  0.22737301  0.24452605]\n",
      " [-0.03147864  0.67500377 -0.21346103 -0.25317871  0.39249861 -0.26964996\n",
      "  -0.0394924   0.10313663 -0.25571872 -0.10765954]\n",
      " [-0.00551113 -0.31626407  0.08957836 -0.28665712  0.16050789 -0.55897491\n",
      "   0.21704027  0.20161134  0.20610483  0.29256455]]\n"
     ]
    }
   ],
   "source": [
    "#question 5:\n",
    "import numpy as np\n",
    "print(\"Original matrix:\\n\")\n",
    "X = np.random.rand(5, 10)\n",
    "print(X)\n",
    "print(\"\\nSubtract the mean of each row of the said matrix:\\n\")\n",
    "Y = X - X.mean(axis=1, keepdims=True)\n",
    "print(Y)"
   ]
  },
  {
   "cell_type": "code",
   "execution_count": null,
   "id": "ff8c90ea",
   "metadata": {},
   "outputs": [],
   "source": []
  }
 ],
 "metadata": {
  "kernelspec": {
   "display_name": "Python 3",
   "language": "python",
   "name": "python3"
  },
  "language_info": {
   "codemirror_mode": {
    "name": "ipython",
    "version": 3
   },
   "file_extension": ".py",
   "mimetype": "text/x-python",
   "name": "python",
   "nbconvert_exporter": "python",
   "pygments_lexer": "ipython3",
   "version": "3.8.8"
  }
 },
 "nbformat": 4,
 "nbformat_minor": 5
}
